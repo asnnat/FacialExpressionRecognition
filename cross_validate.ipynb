{
 "cells": [
  {
   "cell_type": "code",
   "execution_count": 1,
   "metadata": {},
   "outputs": [],
   "source": [
    "import pandas as pd\n",
    "import numpy as np\n",
    "import matplotlib.pyplot as plt\n",
    "import os\n",
    "from matplotlib.colors import ListedColormap\n",
    "from sklearn.model_selection import train_test_split\n",
    "\n",
    "cwd = os.getcwd()\n",
    "df = pd.read_csv(cwd + \"/data_csv/train.csv\")\n",
    "\n",
    "emo_feature = []\n",
    "emo_target = []\n",
    "\n",
    "for i in range(len(df)):\n",
    "    emo_feature.append([df['mouth_distance'][i], df['average_distance'][i]])\n",
    "    emo_target.append([df['emotion'][i]])\n",
    "    # dictionary.update({df.index[i]: i})\n",
    "\n",
    "emo_feature = np.array(emo_feature)\n",
    "emo_target = np.array(emo_target)\n",
    "\n",
    "# import data\n",
    "X = emo_feature\n",
    "y = emo_target\n",
    "\n",
    "# add noisy feature\n",
    "random_state = np.random.RandomState(0)\n",
    "\n",
    "# train test split\n",
    "X_train, X_test, y_train, y_test = train_test_split(X, y, test_size=0.1, random_state=random_state)"
   ]
  },
  {
   "cell_type": "code",
   "execution_count": 2,
   "metadata": {},
   "outputs": [
    {
     "name": "stdout",
     "output_type": "stream",
     "text": [
      "0\n"
     ]
    },
    {
     "name": "stderr",
     "output_type": "stream",
     "text": [
      "C:\\Users\\omsin\\AppData\\Local\\Programs\\Python\\Python38\\lib\\site-packages\\sklearn\\utils\\validation.py:993: DataConversionWarning: A column-vector y was passed when a 1d array was expected. Please change the shape of y to (n_samples, ), for example using ravel().\n",
      "  y = column_or_1d(y, warn=True)\n"
     ]
    },
    {
     "ename": "AttributeError",
     "evalue": "predict_proba is not available when  probability=False",
     "output_type": "error",
     "traceback": [
      "\u001b[1;31m---------------------------------------------------------------------------\u001b[0m",
      "\u001b[1;31mAttributeError\u001b[0m                            Traceback (most recent call last)",
      "\u001b[1;32md:\\TU\\2564_2\\CN240\\FacialExpressionRecognition\\cross_validate.ipynb Cell 2'\u001b[0m in \u001b[0;36m<module>\u001b[1;34m\u001b[0m\n\u001b[0;32m     <a href='vscode-notebook-cell:/d%3A/TU/2564_2/CN240/FacialExpressionRecognition/cross_validate.ipynb#ch0000001?line=43'>44</a>\u001b[0m \u001b[39m# predict\u001b[39;00m\n\u001b[0;32m     <a href='vscode-notebook-cell:/d%3A/TU/2564_2/CN240/FacialExpressionRecognition/cross_validate.ipynb#ch0000001?line=44'>45</a>\u001b[0m predict \u001b[39m=\u001b[39m clf\u001b[39m.\u001b[39mpredict(X_val)\n\u001b[1;32m---> <a href='vscode-notebook-cell:/d%3A/TU/2564_2/CN240/FacialExpressionRecognition/cross_validate.ipynb#ch0000001?line=45'>46</a>\u001b[0m clf_probs \u001b[39m=\u001b[39m clf\u001b[39m.\u001b[39;49mpredict_proba(X_val)\n\u001b[0;32m     <a href='vscode-notebook-cell:/d%3A/TU/2564_2/CN240/FacialExpressionRecognition/cross_validate.ipynb#ch0000001?line=47'>48</a>\u001b[0m \u001b[39m# store model report in history list\u001b[39;00m\n\u001b[0;32m     <a href='vscode-notebook-cell:/d%3A/TU/2564_2/CN240/FacialExpressionRecognition/cross_validate.ipynb#ch0000001?line=48'>49</a>\u001b[0m history_svm_l\u001b[39m.\u001b[39mappend(classification_report(y_val, predict))\n",
      "File \u001b[1;32m~\\AppData\\Local\\Programs\\Python\\Python38\\lib\\site-packages\\sklearn\\utils\\metaestimators.py:109\u001b[0m, in \u001b[0;36m_AvailableIfDescriptor.__get__\u001b[1;34m(self, obj, owner)\u001b[0m\n\u001b[0;32m    <a href='file:///c%3A/Users/omsin/AppData/Local/Programs/Python/Python38/lib/site-packages/sklearn/utils/metaestimators.py?line=102'>103</a>\u001b[0m attr_err \u001b[39m=\u001b[39m \u001b[39mAttributeError\u001b[39;00m(\n\u001b[0;32m    <a href='file:///c%3A/Users/omsin/AppData/Local/Programs/Python/Python38/lib/site-packages/sklearn/utils/metaestimators.py?line=103'>104</a>\u001b[0m     \u001b[39mf\u001b[39m\u001b[39m\"\u001b[39m\u001b[39mThis \u001b[39m\u001b[39m{\u001b[39;00m\u001b[39mrepr\u001b[39m(owner\u001b[39m.\u001b[39m\u001b[39m__name__\u001b[39m)\u001b[39m}\u001b[39;00m\u001b[39m has no attribute \u001b[39m\u001b[39m{\u001b[39;00m\u001b[39mrepr\u001b[39m(\u001b[39mself\u001b[39m\u001b[39m.\u001b[39mattribute_name)\u001b[39m}\u001b[39;00m\u001b[39m\"\u001b[39m\n\u001b[0;32m    <a href='file:///c%3A/Users/omsin/AppData/Local/Programs/Python/Python38/lib/site-packages/sklearn/utils/metaestimators.py?line=104'>105</a>\u001b[0m )\n\u001b[0;32m    <a href='file:///c%3A/Users/omsin/AppData/Local/Programs/Python/Python38/lib/site-packages/sklearn/utils/metaestimators.py?line=105'>106</a>\u001b[0m \u001b[39mif\u001b[39;00m obj \u001b[39mis\u001b[39;00m \u001b[39mnot\u001b[39;00m \u001b[39mNone\u001b[39;00m:\n\u001b[0;32m    <a href='file:///c%3A/Users/omsin/AppData/Local/Programs/Python/Python38/lib/site-packages/sklearn/utils/metaestimators.py?line=106'>107</a>\u001b[0m     \u001b[39m# delegate only on instances, not the classes.\u001b[39;00m\n\u001b[0;32m    <a href='file:///c%3A/Users/omsin/AppData/Local/Programs/Python/Python38/lib/site-packages/sklearn/utils/metaestimators.py?line=107'>108</a>\u001b[0m     \u001b[39m# this is to allow access to the docstrings.\u001b[39;00m\n\u001b[1;32m--> <a href='file:///c%3A/Users/omsin/AppData/Local/Programs/Python/Python38/lib/site-packages/sklearn/utils/metaestimators.py?line=108'>109</a>\u001b[0m     \u001b[39mif\u001b[39;00m \u001b[39mnot\u001b[39;00m \u001b[39mself\u001b[39;49m\u001b[39m.\u001b[39;49mcheck(obj):\n\u001b[0;32m    <a href='file:///c%3A/Users/omsin/AppData/Local/Programs/Python/Python38/lib/site-packages/sklearn/utils/metaestimators.py?line=109'>110</a>\u001b[0m         \u001b[39mraise\u001b[39;00m attr_err\n\u001b[0;32m    <a href='file:///c%3A/Users/omsin/AppData/Local/Programs/Python/Python38/lib/site-packages/sklearn/utils/metaestimators.py?line=111'>112</a>\u001b[0m     \u001b[39m# lambda, but not partial, allows help() to work with update_wrapper\u001b[39;00m\n",
      "File \u001b[1;32m~\\AppData\\Local\\Programs\\Python\\Python38\\lib\\site-packages\\sklearn\\svm\\_base.py:800\u001b[0m, in \u001b[0;36mBaseSVC._check_proba\u001b[1;34m(self)\u001b[0m\n\u001b[0;32m    <a href='file:///c%3A/Users/omsin/AppData/Local/Programs/Python/Python38/lib/site-packages/sklearn/svm/_base.py?line=797'>798</a>\u001b[0m \u001b[39mdef\u001b[39;00m \u001b[39m_check_proba\u001b[39m(\u001b[39mself\u001b[39m):\n\u001b[0;32m    <a href='file:///c%3A/Users/omsin/AppData/Local/Programs/Python/Python38/lib/site-packages/sklearn/svm/_base.py?line=798'>799</a>\u001b[0m     \u001b[39mif\u001b[39;00m \u001b[39mnot\u001b[39;00m \u001b[39mself\u001b[39m\u001b[39m.\u001b[39mprobability:\n\u001b[1;32m--> <a href='file:///c%3A/Users/omsin/AppData/Local/Programs/Python/Python38/lib/site-packages/sklearn/svm/_base.py?line=799'>800</a>\u001b[0m         \u001b[39mraise\u001b[39;00m \u001b[39mAttributeError\u001b[39;00m(\n\u001b[0;32m    <a href='file:///c%3A/Users/omsin/AppData/Local/Programs/Python/Python38/lib/site-packages/sklearn/svm/_base.py?line=800'>801</a>\u001b[0m             \u001b[39m\"\u001b[39m\u001b[39mpredict_proba is not available when  probability=False\u001b[39m\u001b[39m\"\u001b[39m\n\u001b[0;32m    <a href='file:///c%3A/Users/omsin/AppData/Local/Programs/Python/Python38/lib/site-packages/sklearn/svm/_base.py?line=801'>802</a>\u001b[0m         )\n\u001b[0;32m    <a href='file:///c%3A/Users/omsin/AppData/Local/Programs/Python/Python38/lib/site-packages/sklearn/svm/_base.py?line=802'>803</a>\u001b[0m     \u001b[39mif\u001b[39;00m \u001b[39mself\u001b[39m\u001b[39m.\u001b[39m_impl \u001b[39mnot\u001b[39;00m \u001b[39min\u001b[39;00m (\u001b[39m\"\u001b[39m\u001b[39mc_svc\u001b[39m\u001b[39m\"\u001b[39m, \u001b[39m\"\u001b[39m\u001b[39mnu_svc\u001b[39m\u001b[39m\"\u001b[39m):\n\u001b[0;32m    <a href='file:///c%3A/Users/omsin/AppData/Local/Programs/Python/Python38/lib/site-packages/sklearn/svm/_base.py?line=803'>804</a>\u001b[0m         \u001b[39mraise\u001b[39;00m \u001b[39mAttributeError\u001b[39;00m(\u001b[39m\"\u001b[39m\u001b[39mpredict_proba only implemented for SVC and NuSVC\u001b[39m\u001b[39m\"\u001b[39m)\n",
      "\u001b[1;31mAttributeError\u001b[0m: predict_proba is not available when  probability=False"
     ]
    },
    {
     "data": {
      "image/png": "[encoded data removed]",
      "text/plain": [
       "<Figure size 432x288 with 1 Axes>"
      ]
     },
     "metadata": {
      "needs_background": "light"
     },
     "output_type": "display_data"
    }
   ],
   "source": [
    "import pickle\n",
    "from sklearn import svm\n",
    "from sklearn.linear_model import LogisticRegression\n",
    "from sklearn.ensemble import RandomForestClassifier\n",
    "from sklearn.metrics import log_loss\n",
    "from sklearn.metrics import accuracy_score\n",
    "from sklearn.metrics import auc\n",
    "from sklearn.metrics import plot_roc_curve\n",
    "from sklearn.metrics import classification_report\n",
    "from sklearn.metrics import plot_confusion_matrix\n",
    "from sklearn.model_selection import StratifiedGroupKFold\n",
    "\n",
    "# run classifier with k-flod cross validation and plot ROC curve\n",
    "cv = StratifiedGroupKFold(n_splits=5, shuffle=False)\n",
    "\n",
    "# check score many model\n",
    "score_lr = []\n",
    "score_svm_l = []\n",
    "score_svm_p = []\n",
    "score_svm_r = []\n",
    "score_rf = []\n",
    "\n",
    "history_svm_l = []\n",
    "tprs = []\n",
    "aucs = []\n",
    "mean_fpr = np.linspace(0, 1, 100)\n",
    "\n",
    "fig, ax = plt.subplots()\n",
    "\n",
    "for i, (train, val) in enumerate(cv.split(X_train, y_train)):\n",
    "    X_train, X_val = X[train], X[val]\n",
    "    y_train, y_val = y[train], y[val]\n",
    "\n",
    "    print(i)\n",
    "\n",
    "    # fit model\n",
    "    clf = svm.SVC(kernel='linear', C=1).fit(X_train, y_train)\n",
    "    clf.fit(X_train, np.ravel(y_train,order='C'))\n",
    "\n",
    "    # save model\n",
    "    with open('model/svm_l', 'wb') as f:\n",
    "        pickle.dump(clf, f)\n",
    "\n",
    "    # predict\n",
    "    predict = clf.predict(X_val)\n",
    "    clf_probs = clf.predict_proba(X_val)\n",
    "\n",
    "    # store model report in history list\n",
    "    history_svm_l.append(classification_report(y_val, predict))\n",
    "\n",
    "    # get loss and acc\n",
    "    acc = accuracy_score(y_val, predict)\n",
    "    loss = log_loss(y_val, clf_probs)\n",
    "    print(f\"Fold {i + 1}\")\n",
    "    print(f\"accuracy_score: {acc}\")\n",
    "    print(f\"log_loss: {loss}\")\n",
    "\n",
    "    viz = plot_roc_curve(clf, X[val], y[val], name=f\"ROC fold {i + 1}\", alpha=0.3, lw=1, ax=ax)\n",
    "    interp_tpr = np.interp(mean_fpr, viz.fpr, viz.tpr)\n",
    "    interp_tpr[0] = 0.0\n",
    "    tprs.append(interp_tpr)\n",
    "    aucs.append(viz.roc_auc)\n",
    "    print(f\"{i} Yeah\")\n"
   ]
  },
  {
   "cell_type": "code",
   "execution_count": null,
   "metadata": {},
   "outputs": [
    {
     "name": "stderr",
     "output_type": "stream",
     "text": [
      "C:\\Users\\omsin\\AppData\\Local\\Programs\\Python\\Python38\\lib\\site-packages\\sklearn\\utils\\validation.py:993: DataConversionWarning: A column-vector y was passed when a 1d array was expected. Please change the shape of y to (n_samples, ), for example using ravel().\n",
      "  y = column_or_1d(y, warn=True)\n"
     ]
    }
   ],
   "source": [
    "from sklearn import svm\n",
    "from sklearn.linear_model import LogisticRegression\n",
    "from sklearn.ensemble import RandomForestClassifier\n",
    "\n",
    "clf = svm.SVC(kernel='linear', C=1).fit(X_train, y_train)\n",
    "print(clf.score(X_val, y_val))\n",
    "\n",
    "clf = svm.SVC(kernel='poly', C=1).fit(X_train, y_train)\n",
    "print(clf.score(X_val, y_val))\n",
    "\n",
    "clf = svm.SVC(kernel='rbf', C=1).fit(X_train, y_train)\n",
    "print(clf.score(X_val, y_val))\n",
    "\n",
    "lr = LogisticRegression()\n",
    "lr.fit(X_train, y_train)\n",
    "print(lr.score(X_val, y_val))\n",
    "\n",
    "rf = RandomForestClassifier(n_estimators=40)\n",
    "rf.fit(X_train, y_train)\n",
    "print(rf.score(X_val, y_val))"
   ]
  }
 ],
 "metadata": {
  "interpreter": {
   "hash": "4d02cdae7faed44485a20a1dfe89a6c1f0576f684e5ae49a964539fc51d957e1"
  },
  "kernelspec": {
   "display_name": "Python 3.8.2 64-bit",
   "language": "python",
   "name": "python3"
  },
  "language_info": {
   "codemirror_mode": {
    "name": "ipython",
    "version": 3
   },
   "file_extension": ".py",
   "mimetype": "text/x-python",
   "name": "python",
   "nbconvert_exporter": "python",
   "pygments_lexer": "ipython3",
   "version": "3.8.2"
  },
  "orig_nbformat": 4
 },
 "nbformat": 4,
 "nbformat_minor": 2
}
