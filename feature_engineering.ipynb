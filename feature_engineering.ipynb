{
 "cells": [
  {
   "cell_type": "code",
   "execution_count": 4,
   "metadata": {},
   "outputs": [],
   "source": [
    "import pandas as pd\n",
    "import numpy as np\n",
    "import os\n",
    "\n",
    "# read preprocessed data\n",
    "cwd = os.getcwd()\n",
    "df = pd.read_csv(cwd + \"/data_csv/preprocessing_data.csv\")"
   ]
  },
  {
   "cell_type": "code",
   "execution_count": 5,
   "metadata": {},
   "outputs": [
    {
     "name": "stdout",
     "output_type": "stream",
     "text": [
      "0\n"
     ]
    }
   ],
   "source": [
    "import cv2, math, numpy as np, dlib\n",
    "from imutils import face_utils\n",
    "\n",
    "# emotion list\n",
    "# emotions = [0, 1, 2, 3, 4, 5] \n",
    "# clahe = cv2.createCLAHE(clipLimit=2.0, tileGridSize=(8,8))\n",
    "\n",
    "detector = dlib.get_frontal_face_detector()\n",
    "predictor = dlib.shape_predictor(cwd + \"/predictor/shape_predictor_68_face_landmarks.dat\")\n",
    "\n",
    "error = []\n",
    "mlist = []\n",
    "distlist = []\n",
    "\n",
    "# run each row in train.csv\n",
    "for idx, row in df.iterrows():\n",
    "    imagePath = cwd + \"/cleaned_images/\" + row.image\n",
    "    image = cv2.imread(imagePath)\n",
    "\n",
    "    rects = detector(image, 0)\n",
    "\n",
    "    if len(rects) == 0:\n",
    "        error.append(row.image)\n",
    "\n",
    "    xlist = []\n",
    "    ylist = []\n",
    "    # loop over the face detections\n",
    "    for (i, rect) in enumerate(rects):\n",
    "        # determine the facial landmarks and convert the facial landmark (x, y)\n",
    "        shape = predictor(image, rect)\n",
    "        shape = face_utils.shape_to_np(shape)\n",
    "\n",
    "        # loop over coordinates, draw them on the image and store coordinates in two lists\n",
    "        for (x, y) in shape:\n",
    "            cv2.circle(image, (x, y), 2, (0, 255, 0), -1)\n",
    "            xlist.append(x)\n",
    "            ylist.append(y)\n",
    "\n",
    "    # get mean of both axes to determine centre of gravity\n",
    "    xmean = np.mean(xlist) \n",
    "    ymean = np.mean(ylist)\n",
    "\n",
    "    # plot central face on image\n",
    "    cv2.circle(image, (int(xmean), int(ymean)), 1, (0, 255, 0), -1)\n",
    "\n",
    "    # find distance between mouth\n",
    "    mavg = np.mean([ylist[61] - ylist[67], ylist[62] - ylist[66], ylist[63] - ylist[65]])\n",
    "    mlist.append(mavg)\n",
    "\n",
    "    # find distance between every poin to central point\n",
    "    templist = []\n",
    "    for i in range(17, 68):\n",
    "        dist = math.sqrt(math.pow(xlist[i] - xmean, 2) + math.pow(ylist[i] - ymean, 2))\n",
    "        templist.append(dist)\n",
    "    distavg = np.mean(dist)\n",
    "    distlist.append(distavg)\n",
    "  \n",
    "    # show the output image with the face detections + facial landmarks\n",
    "    cv2.imshow(\"Output\", image)# \n",
    "    k = cv2.waitKey(5) & 0xFF\n",
    "    if k == 68:\n",
    "        break\n",
    "\n",
    "print(len(error))"
   ]
  },
  {
   "cell_type": "code",
   "execution_count": 10,
   "metadata": {},
   "outputs": [],
   "source": [
    "# add feature to df\n",
    "df['mouth_distance'] = mlist\n",
    "df['average_distance'] = distlist\n",
    "\n",
    "# replace string emotion label with integer\n",
    "dictionary = {'emotion':{'HAPPINESS': 0,'NEUTRAL': 1, 'SURPRISE': 2, 'ANGER': 3, 'SADNESS': 4, 'DISGUST': 5}}\n",
    "df.replace(dictionary, inplace = True)\n",
    "\n",
    "df.to_csv(cwd + \"/data_csv/preprocessing_data.csv\")"
   ]
  }
 ],
 "metadata": {
  "interpreter": {
   "hash": "4d02cdae7faed44485a20a1dfe89a6c1f0576f684e5ae49a964539fc51d957e1"
  },
  "kernelspec": {
   "display_name": "Python 3.8.2 64-bit",
   "language": "python",
   "name": "python3"
  },
  "language_info": {
   "codemirror_mode": {
    "name": "ipython",
    "version": 3
   },
   "file_extension": ".py",
   "mimetype": "text/x-python",
   "name": "python",
   "nbconvert_exporter": "python",
   "pygments_lexer": "ipython3",
   "version": "3.8.2"
  },
  "orig_nbformat": 4
 },
 "nbformat": 4,
 "nbformat_minor": 2
}
