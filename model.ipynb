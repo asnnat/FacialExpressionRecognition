{
 "cells": [
  {
   "cell_type": "code",
   "execution_count": 85,
   "metadata": {},
   "outputs": [],
   "source": [
    "import matplotlib.pylab as plt\n",
    "from scipy import interp\n",
    "from sklearn.ensemble import RandomForestClassifier\n",
    "from sklearn.metrics import roc_curve,auc\n",
    "from sklearn.model_selection import StratifiedKFold\n",
    "# import matplotlib.patches as patches\n",
    "import numpy as np \n",
    "import pandas as pd \n",
    "import os\n",
    "import numpy as np\n",
    "import matplotlib.pyplot as plt\n",
    "\n",
    "from sklearn import svm, datasets\n",
    "# from sklearn.metrics import auc\n",
    "from sklearn.metrics import RocCurveDisplay\n",
    "from sklearn.model_selection import StratifiedKFold\n",
    "\n",
    "cwd = os.getcwd()\n",
    "df = pd.read_csv(cwd + \"/data_csv/train.csv\")"
   ]
  },
  {
   "cell_type": "code",
   "execution_count": 86,
   "metadata": {},
   "outputs": [
    {
     "name": "stdout",
     "output_type": "stream",
     "text": [
      "Index(['Unnamed: 0', 'image', 'emotion'], dtype='object')\n",
      "HAPPINESS    2120\n",
      "NEUTRAL      2041\n",
      "SURPRISE       78\n",
      "ANGER          73\n",
      "SADNESS        35\n",
      "DISGUST         6\n",
      "Name: emotion, dtype: int64\n",
      "<class 'pandas.core.frame.DataFrame'>\n",
      "RangeIndex: 4353 entries, 0 to 4352\n",
      "Data columns (total 3 columns):\n",
      " #   Column      Non-Null Count  Dtype \n",
      "---  ------      --------------  ----- \n",
      " 0   Unnamed: 0  4353 non-null   int64 \n",
      " 1   image       4353 non-null   object\n",
      " 2   emotion     4353 non-null   object\n",
      "dtypes: int64(1), object(2)\n",
      "memory usage: 102.1+ KB\n",
      "None\n"
     ]
    }
   ],
   "source": [
    "print(df.columns)\n",
    "\n",
    "label_value_count = df.emotion.value_counts()\n",
    "\n",
    "print(label_value_count)\n",
    "print(df.info())"
   ]
  },
  {
   "cell_type": "code",
   "execution_count": 87,
   "metadata": {},
   "outputs": [],
   "source": [
    "# Convert string emotion to float\n",
    "dictionary = {'emotion':{'HAPPINESS':0,'NEUTRAL':1, 'SURPRISE':2, 'ANGER':3, 'SADNESS':4, 'DISGUST':5}}\n",
    "df.replace(dictionary, inplace = True)\n",
    "\n",
    "X = df.loc[:, df.columns != 'emotion']\n",
    "y = df.loc[:,'emotion']"
   ]
  },
  {
   "cell_type": "code",
   "execution_count": 88,
   "metadata": {},
   "outputs": [],
   "source": [
    "random_state = np.random.RandomState(0)\n",
    "clf = RandomForestClassifier(random_state=random_state)\n",
    "cv = StratifiedKFold(n_splits=5, shuffle=False)"
   ]
  },
  {
   "cell_type": "code",
   "execution_count": 89,
   "metadata": {},
   "outputs": [
    {
     "data": {
      "text/plain": [
       "'\\n# plot arrows\\nfig1 = plt.figure(figsize=[12,12])\\nax1 = fig1.add_subplot(111,aspect = \\'equal\\')\\nax1.add_patch(\\n    patches.Arrow(0.45,0.5,-0.25,0.25,width=0.3,color=\\'green\\',alpha = 0.5)\\n    )\\nax1.add_patch(\\n    patches.Arrow(0.5,0.45,0.25,-0.25,width=0.3,color=\\'red\\',alpha = 0.5)\\n    )\\n\\ntprs = []\\naucs = []\\nmean_fpr = np.linspace(0,1,100)\\ni = 1\\nfor train,test in cv.split(x,y):\\n    prediction = clf.fit(x.iloc[train],y.iloc[train]).predict_proba(x.iloc[test])\\n    fpr, tpr, t = roc_curve(y[test], prediction[:, 1])\\n    tprs.append(interp(mean_fpr, fpr, tpr))\\n    roc_auc = auc(fpr, tpr)\\n    aucs.append(roc_auc)\\n    plt.plot(fpr, tpr, lw=2, alpha=0.3, label=\\'ROC fold %d (AUC = %0.2f)\\' % (i, roc_auc))\\n    i= i+1\\n\\nplt.plot([0,1],[0,1],linestyle = \\'--\\',lw = 2,color = \\'black\\')\\nmean_tpr = np.mean(tprs, axis=0)\\nmean_auc = auc(mean_fpr, mean_tpr)\\nplt.plot(mean_fpr, mean_tpr, color=\\'blue\\',\\n         label=r\\'Mean ROC (AUC = %0.2f )\\' % (mean_auc),lw=2, alpha=1)\\n\\nplt.xlabel(\\'False Positive Rate\\')\\nplt.ylabel(\\'True Positive Rate\\')\\nplt.title(\\'ROC\\')\\nplt.legend(loc=\"lower right\")\\nplt.text(0.32,0.7,\\'More accurate area\\',fontsize = 12)\\nplt.text(0.63,0.4,\\'Less accurate area\\',fontsize = 12)\\nplt.show()\\n'"
      ]
     },
     "execution_count": 89,
     "metadata": {},
     "output_type": "execute_result"
    }
   ],
   "source": [
    "'''\n",
    "# plot arrows\n",
    "fig1 = plt.figure(figsize=[12,12])\n",
    "ax1 = fig1.add_subplot(111,aspect = 'equal')\n",
    "ax1.add_patch(\n",
    "    patches.Arrow(0.45,0.5,-0.25,0.25,width=0.3,color='green',alpha = 0.5)\n",
    "    )\n",
    "ax1.add_patch(\n",
    "    patches.Arrow(0.5,0.45,0.25,-0.25,width=0.3,color='red',alpha = 0.5)\n",
    "    )\n",
    "\n",
    "tprs = []\n",
    "aucs = []\n",
    "mean_fpr = np.linspace(0,1,100)\n",
    "i = 1\n",
    "for train,test in cv.split(x,y):\n",
    "    prediction = clf.fit(x.iloc[train],y.iloc[train]).predict_proba(x.iloc[test])\n",
    "    fpr, tpr, t = roc_curve(y[test], prediction[:, 1])\n",
    "    tprs.append(interp(mean_fpr, fpr, tpr))\n",
    "    roc_auc = auc(fpr, tpr)\n",
    "    aucs.append(roc_auc)\n",
    "    plt.plot(fpr, tpr, lw=2, alpha=0.3, label='ROC fold %d (AUC = %0.2f)' % (i, roc_auc))\n",
    "    i= i+1\n",
    "\n",
    "plt.plot([0,1],[0,1],linestyle = '--',lw = 2,color = 'black')\n",
    "mean_tpr = np.mean(tprs, axis=0)\n",
    "mean_auc = auc(mean_fpr, mean_tpr)\n",
    "plt.plot(mean_fpr, mean_tpr, color='blue',\n",
    "         label=r'Mean ROC (AUC = %0.2f )' % (mean_auc),lw=2, alpha=1)\n",
    "\n",
    "plt.xlabel('False Positive Rate')\n",
    "plt.ylabel('True Positive Rate')\n",
    "plt.title('ROC')\n",
    "plt.legend(loc=\"lower right\")\n",
    "plt.text(0.32,0.7,'More accurate area',fontsize = 12)\n",
    "plt.text(0.63,0.4,'Less accurate area',fontsize = 12)\n",
    "plt.show()\n",
    "'''"
   ]
  },
  {
   "cell_type": "code",
   "execution_count": 90,
   "metadata": {},
   "outputs": [
    {
     "data": {
      "text/plain": [
       "'\\nimport numpy as np\\nimport matplotlib.pyplot as plt\\n\\nfrom sklearn import svm, datasets\\nfrom sklearn.metrics import auc\\nfrom sklearn.metrics import RocCurveDisplay\\nfrom sklearn.model_selection import StratifiedKFold\\n\\n# #############################################################################\\n# Data IO and generation\\n\\n# Import some data to play with\\niris = datasets.load_iris()\\nX = iris.data\\ny = iris.target\\nX, y = X[y != 2], y[y != 2]\\nn_samples, n_features = X.shape\\n\\n# Add noisy features\\nrandom_state = np.random.RandomState(0)\\nX = np.c_[X, random_state.randn(n_samples, 200 * n_features)]\\n\\n# #############################################################################\\n# Classification and ROC analysis\\n\\n# Run classifier with cross-validation and plot ROC curves\\ncv = StratifiedKFold(n_splits=5)\\nclassifier = svm.SVC(kernel=\"linear\", probability=True, random_state=random_state)\\n\\ntprs = []\\naucs = []\\nmean_fpr = np.linspace(0, 1, 100)\\n\\nfig, ax = plt.subplots()\\nfor i, (train, test) in enumerate(cv.split(X, y)):\\n    classifier.fit(X[train], y[train])\\n    viz = RocCurveDisplay.from_estimator(\\n        classifier,\\n        X[test],\\n        y[test],\\n        name=\"ROC fold {}\".format(i),\\n        alpha=0.3,\\n        lw=1,\\n        ax=ax,\\n    )\\n    interp_tpr = np.interp(mean_fpr, viz.fpr, viz.tpr)\\n    interp_tpr[0] = 0.0\\n    tprs.append(interp_tpr)\\n    aucs.append(viz.roc_auc)\\n\\n# midle line\\nax.plot([0, 1], [0, 1], linestyle=\"--\", lw=1, color=\"r\", label=\"Chance\", alpha=0.8)\\n\\n# mean line\\nmean_tpr = np.mean(tprs, axis=0)\\nmean_tpr[-1] = 1.0\\nmean_auc = auc(mean_fpr, mean_tpr)\\nstd_auc = np.std(aucs)\\nax.plot(\\n    mean_fpr,\\n    mean_tpr,\\n    color=\"b\",\\n    label=r\"Mean ROC (AUC = %0.2f $\\\\pm$ %0.2f)\" % (mean_auc, std_auc),\\n    lw=2,\\n    alpha=0.8,\\n)\\n\\nstd_tpr = np.std(tprs, axis=0)\\ntprs_upper = np.minimum(mean_tpr + std_tpr, 1)\\ntprs_lower = np.maximum(mean_tpr - std_tpr, 0)\\nax.fill_between(\\n    mean_fpr,\\n    tprs_lower,\\n    tprs_upper,\\n    color=\"grey\",\\n    alpha=0.2,\\n    label=r\"$\\\\pm$ 1 std. dev.\",\\n)\\n\\nax.set(\\n    xlim=[-0.05, 1.05],\\n    ylim=[-0.05, 1.05],\\n    title=\"Receiver operating characteristic example\",\\n)\\nax.legend(loc=\"lower right\")\\n\\nplt.xlabel(\"False Positive Rate\")\\nplt.ylabel(\"True Positive Rate\")\\nplt.show()\\n'"
      ]
     },
     "execution_count": 90,
     "metadata": {},
     "output_type": "execute_result"
    }
   ],
   "source": [
    "'''\n",
    "import numpy as np\n",
    "import matplotlib.pyplot as plt\n",
    "\n",
    "from sklearn import svm, datasets\n",
    "from sklearn.metrics import auc\n",
    "from sklearn.metrics import RocCurveDisplay\n",
    "from sklearn.model_selection import StratifiedKFold\n",
    "\n",
    "# #############################################################################\n",
    "# Data IO and generation\n",
    "\n",
    "# Import some data to play with\n",
    "iris = datasets.load_iris()\n",
    "X = iris.data\n",
    "y = iris.target\n",
    "X, y = X[y != 2], y[y != 2]\n",
    "n_samples, n_features = X.shape\n",
    "\n",
    "# Add noisy features\n",
    "random_state = np.random.RandomState(0)\n",
    "X = np.c_[X, random_state.randn(n_samples, 200 * n_features)]\n",
    "\n",
    "# #############################################################################\n",
    "# Classification and ROC analysis\n",
    "\n",
    "# Run classifier with cross-validation and plot ROC curves\n",
    "cv = StratifiedKFold(n_splits=5)\n",
    "classifier = svm.SVC(kernel=\"linear\", probability=True, random_state=random_state)\n",
    "\n",
    "tprs = []\n",
    "aucs = []\n",
    "mean_fpr = np.linspace(0, 1, 100)\n",
    "\n",
    "fig, ax = plt.subplots()\n",
    "for i, (train, test) in enumerate(cv.split(X, y)):\n",
    "    classifier.fit(X[train], y[train])\n",
    "    viz = RocCurveDisplay.from_estimator(\n",
    "        classifier,\n",
    "        X[test],\n",
    "        y[test],\n",
    "        name=\"ROC fold {}\".format(i),\n",
    "        alpha=0.3,\n",
    "        lw=1,\n",
    "        ax=ax,\n",
    "    )\n",
    "    interp_tpr = np.interp(mean_fpr, viz.fpr, viz.tpr)\n",
    "    interp_tpr[0] = 0.0\n",
    "    tprs.append(interp_tpr)\n",
    "    aucs.append(viz.roc_auc)\n",
    "\n",
    "# midle line\n",
    "ax.plot([0, 1], [0, 1], linestyle=\"--\", lw=1, color=\"r\", label=\"Chance\", alpha=0.8)\n",
    "\n",
    "# mean line\n",
    "mean_tpr = np.mean(tprs, axis=0)\n",
    "mean_tpr[-1] = 1.0\n",
    "mean_auc = auc(mean_fpr, mean_tpr)\n",
    "std_auc = np.std(aucs)\n",
    "ax.plot(\n",
    "    mean_fpr,\n",
    "    mean_tpr,\n",
    "    color=\"b\",\n",
    "    label=r\"Mean ROC (AUC = %0.2f $\\pm$ %0.2f)\" % (mean_auc, std_auc),\n",
    "    lw=2,\n",
    "    alpha=0.8,\n",
    ")\n",
    "\n",
    "std_tpr = np.std(tprs, axis=0)\n",
    "tprs_upper = np.minimum(mean_tpr + std_tpr, 1)\n",
    "tprs_lower = np.maximum(mean_tpr - std_tpr, 0)\n",
    "ax.fill_between(\n",
    "    mean_fpr,\n",
    "    tprs_lower,\n",
    "    tprs_upper,\n",
    "    color=\"grey\",\n",
    "    alpha=0.2,\n",
    "    label=r\"$\\pm$ 1 std. dev.\",\n",
    ")\n",
    "\n",
    "ax.set(\n",
    "    xlim=[-0.05, 1.05],\n",
    "    ylim=[-0.05, 1.05],\n",
    "    title=\"Receiver operating characteristic example\",\n",
    ")\n",
    "ax.legend(loc=\"lower right\")\n",
    "\n",
    "plt.xlabel(\"False Positive Rate\")\n",
    "plt.ylabel(\"True Positive Rate\")\n",
    "plt.show()\n",
    "'''"
   ]
  },
  {
   "cell_type": "code",
   "execution_count": 91,
   "metadata": {},
   "outputs": [
    {
     "data": {
      "text/plain": [
       "'\\nplt.xlabel(\"False Positive Rate\")\\nplt.ylabel(\"True Positive Rate\")\\nplt.title(\"Receiver operating characteristic example\")\\n'"
      ]
     },
     "execution_count": 91,
     "metadata": {},
     "output_type": "execute_result"
    }
   ],
   "source": [
    "'''\n",
    "plt.xlabel(\"False Positive Rate\")\n",
    "plt.ylabel(\"True Positive Rate\")\n",
    "plt.title(\"Receiver operating characteristic example\")\n",
    "'''"
   ]
  }
 ],
 "metadata": {
  "interpreter": {
   "hash": "4d02cdae7faed44485a20a1dfe89a6c1f0576f684e5ae49a964539fc51d957e1"
  },
  "kernelspec": {
   "display_name": "Python 3.8.2 64-bit",
   "language": "python",
   "name": "python3"
  },
  "language_info": {
   "codemirror_mode": {
    "name": "ipython",
    "version": 3
   },
   "file_extension": ".py",
   "mimetype": "text/x-python",
   "name": "python",
   "nbconvert_exporter": "python",
   "pygments_lexer": "ipython3",
   "version": "3.8.2"
  },
  "orig_nbformat": 4
 },
 "nbformat": 4,
 "nbformat_minor": 2
}
