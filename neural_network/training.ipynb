{
 "cells": [
  {
   "cell_type": "code",
   "execution_count": 9,
   "metadata": {},
   "outputs": [],
   "source": [
    "import os\n",
    "import pandas as pd\n",
    "import numpy as np\n",
    "from sklearn.utils import class_weight\n",
    "import tensorflow as tf\n",
    "#import tensorflow_addons as tfa"
   ]
  },
  {
   "cell_type": "code",
   "execution_count": 10,
   "metadata": {},
   "outputs": [],
   "source": [
    "img_size = (224, 224)\n",
    "\n",
    "# train data\n",
    "cwd = os.getcwd()\n",
    "epochs = 100\n",
    "df = pd.read_csv(cwd + '/state/train.csv')\n",
    "X = list(df['image'][i] for i in range(len(df)))\n",
    "y = list(df['emotion'][i] for i in range(len(df)))"
   ]
  },
  {
   "cell_type": "code",
   "execution_count": 11,
   "metadata": {},
   "outputs": [
    {
     "name": "stdout",
     "output_type": "stream",
     "text": [
      "{0: 1.7054881133029842, 1: 1.8921156004489337, 2: 1.7273309426229508, 3: 1.595716990061524, 4: 0.4823676680972818, 5: 0.4303995404646413, 6: 1.3411893396976928, 7: 1.8607891832229582}\n"
     ]
    }
   ],
   "source": [
    "weight = dict(enumerate(class_weight.compute_class_weight(class_weight='balanced', classes=np.unique(y), y=y)))\n",
    "print(weight)"
   ]
  },
  {
   "cell_type": "code",
   "execution_count": 12,
   "metadata": {},
   "outputs": [],
   "source": [
    "def create_model():\n",
    "    model = tf.keras.Sequential([\n",
    "        tf.keras.layers.InputLayer(input_shape=(img_size[0], img_size[1], 3)),\n",
    "        tf.keras.layers.experimental.preprocessing.RandomRotation(\n",
    "            0.05, fill_mode='nearest'\n",
    "        ),\n",
    "\n",
    "        tf.keras.applications.efficientnet_v2.EfficientNetV2B0(\n",
    "            include_top=False, weights='imagenet', input_tensor=None,\n",
    "            input_shape=(img_size[0], img_size[1], 3), include_preprocessing=True\n",
    "        ),\n",
    "\n",
    "\n",
    "        # tf.keras.layers.GlobalAveragePooling2D(),\n",
    "        # tf.keras.layers.BatchNormalization(),\n",
    "        # tf.keras.layers.Dropout(0.3),\n",
    "        tf.keras.layers.Flatten(),\n",
    "\n",
    "\n",
    "        tf.keras.layers.Dense(512, activation='relu'),\n",
    "        # tf.keras.layers.BatchNormalization(),\n",
    "        # tf.keras.layers.Dropout(0.5),\n",
    "\n",
    "        tf.keras.layers.Dense(256, activation='relu'),\n",
    "        # tf.keras.layers.BatchNormalization(),\n",
    "        # tf.keras.layers.Dropout(0.5),\n",
    "\n",
    "        tf.keras.layers.Dense(128, activation='relu'),\n",
    "        # tf.keras.layers.BatchNormalization(),\n",
    "        tf.keras.layers.Dropout(0.5),\n",
    "\n",
    "        tf.keras.layers.Dense(8, activation='softmax')\n",
    "\n",
    "    ])\n",
    "\n",
    "    model.compile(optimizer=tf.keras.optimizers.Adam(amsgrad=True),  # tf.keras.optimizers.Adam(amsgrad=True),  # tf.keras.optimizers.SGD(nesterov=True), # tfa.optimizers.RectifiedAdam(),\n",
    "                  loss=tf.keras.losses.SparseCategoricalCrossentropy(\n",
    "                      from_logits=True),\n",
    "                  metrics=['accuracy'])\n",
    "\n",
    "    return model"
   ]
  },
  {
   "cell_type": "code",
   "execution_count": 13,
   "metadata": {},
   "outputs": [],
   "source": [
    "# es_callback = tf.keras.callbacks.EarlyStopping(\n",
    "#     monitor='val_accuracy', patience=epochs*0.05, restore_best_weights=True)\n",
    "# cp_callback = tf.keras.callbacks.ModelCheckpoint(\n",
    "#     filepath=\"model/cp-{epoch:04d}.ckpt\",\n",
    "#     verbose=0,\n",
    "#     save_weights_only=True,\n",
    "#     monitor='val_accuracy',\n",
    "#     save_best_only=True)\n",
    "# tb_callback = tf.keras.callbacks.TensorBoard(\n",
    "#     log_dir=\"./logs\",\n",
    "#             update_freq=\"epoch\")"
   ]
  },
  {
   "cell_type": "code",
   "execution_count": 14,
   "metadata": {},
   "outputs": [
    {
     "name": "stdout",
     "output_type": "stream",
     "text": [
      "Model: \"sequential_1\"\n",
      "_________________________________________________________________\n",
      " Layer (type)                Output Shape              Param #   \n",
      "=================================================================\n",
      " random_rotation_1 (RandomRo  (None, 224, 224, 3)      0         \n",
      " tation)                                                         \n",
      "                                                                 \n",
      " efficientnetv2-b0 (Function  (None, 7, 7, 1280)       5919312   \n",
      " al)                                                             \n",
      "                                                                 \n",
      " flatten_1 (Flatten)         (None, 62720)             0         \n",
      "                                                                 \n",
      " dense_4 (Dense)             (None, 512)               32113152  \n",
      "                                                                 \n",
      " dense_5 (Dense)             (None, 256)               131328    \n",
      "                                                                 \n",
      " dense_6 (Dense)             (None, 128)               32896     \n",
      "                                                                 \n",
      " dropout_1 (Dropout)         (None, 128)               0         \n",
      "                                                                 \n",
      " dense_7 (Dense)             (None, 8)                 1032      \n",
      "                                                                 \n",
      "=================================================================\n",
      "Total params: 38,197,720\n",
      "Trainable params: 38,137,112\n",
      "Non-trainable params: 60,608\n",
      "_________________________________________________________________\n",
      "None\n"
     ]
    }
   ],
   "source": [
    "model = create_model()\n",
    "print(model.summary())\n"
   ]
  },
  {
   "cell_type": "code",
   "execution_count": 15,
   "metadata": {},
   "outputs": [],
   "source": [
    "from tensorflow.keras.optimizers import RMSprop,SGD,Adam\n",
    "# adam=Adam(lr=0.001)\n",
    "# model.compile(optimizer='adam', loss='categorical_crossentropy', metrics = ['acc'])\n"
   ]
  },
  {
   "cell_type": "code",
   "execution_count": 16,
   "metadata": {},
   "outputs": [],
   "source": [
    "import os, cv2, shutil\n",
    "df_train = pd.read_csv(cwd + \"\\\\state\\\\train.csv\")\n",
    "df_test = pd.read_csv(cwd + \"\\\\state\\\\test.csv\")\n",
    "output_train_dir = cwd + \"\\\\train\"\n",
    "root_image_dir = cwd + \"\\\\..\\\\cleaned_images\\\\\"\n",
    "dictionary = ['ANGER', 'CONTEMPT', 'DISGUST', 'FEAR', 'HAPPINESS',  'NEUTRAL', 'SADNESS', 'SURPRISE']\n",
    "dir_test = cwd + \"\\\\test\\\\\"\n",
    "dir_train = cwd + \"\\\\train\\\\\"\n",
    "if(os.path.exists(dir_train) or os.path.exists(dir_test)):\n",
    "    shutil.rmtree(dir_train)\n",
    "    shutil.rmtree(dir_test)\n",
    "for emotion in dictionary:\n",
    "    os.makedirs(dir_test + \"\\\\\" + emotion)\n",
    "    os.makedirs(dir_train + \"\\\\\" + emotion)\n",
    "\n",
    "def isInDir(image_dir):\n",
    "    return len(image_dir.split(\"/\")) >= 2\n",
    "for index, row in df_test.iterrows():\n",
    "    if(isInDir(row['image']) == False): continue\n",
    "    output_test_dir = dir_test + row['image']\n",
    "    image = cv2.imread(root_image_dir + row['image'])\n",
    "    cv2.imwrite(output_test_dir, image)\n",
    "for index, row in df_train.iterrows():\n",
    "    if(isInDir(row['image']) == False): continue\n",
    "    output_train_dir = dir_train + row['image']\n",
    "    image = cv2.imread(root_image_dir + row['image'])\n",
    "    cv2.imwrite(output_train_dir, image)\n"
   ]
  },
  {
   "cell_type": "code",
   "execution_count": 17,
   "metadata": {},
   "outputs": [
    {
     "name": "stdout",
     "output_type": "stream",
     "text": [
      "Found 19175 images belonging to 8 classes.\n",
      "Found 2367 images belonging to 8 classes.\n",
      "Found 19175 files belonging to 8 classes.\n",
      "Found 2367 files belonging to 8 classes.\n"
     ]
    }
   ],
   "source": [
    "bs = 30\n",
    "train_dir = cwd + \"\\\\train\"\n",
    "test_dir = cwd + \"\\\\test\"\n",
    "from tensorflow.keras.preprocessing.image import ImageDataGenerator \n",
    "train_datagen = ImageDataGenerator( rescale = 1.0/255. )\n",
    "test_datagen  = ImageDataGenerator( rescale = 1.0/255. )\n",
    "train_generator=train_datagen.flow_from_directory(train_dir,batch_size=bs,class_mode='categorical',target_size=(img_size[0],img_size[1]))\n",
    "validation_generator =  test_datagen.flow_from_directory(test_dir,\n",
    "                                                         batch_size=bs,\n",
    "                                                         class_mode  = 'categorical',\n",
    "                                                         target_size=(img_size[0],img_size[1]))\n",
    "dictionary = ['ANGER', 'CONTEMPT', 'DISGUST', 'FEAR', 'HAPPINESS',  'NEUTRAL', 'SADNESS', 'SURPRISE']\n",
    "train_ds = tf.keras.preprocessing.image_dataset_from_directory(\n",
    "    train_dir,\n",
    "    shuffle=True,\n",
    "    labels='inferred',\n",
    "    label_mode='int',\n",
    "    image_size=img_size,\n",
    "    class_names=dictionary,\n",
    "    color_mode='rgb',\n",
    "    batch_size=bs)\n",
    "val_ds = tf.keras.preprocessing.image_dataset_from_directory(\n",
    "    test_dir,\n",
    "    labels='inferred',\n",
    "    label_mode='int',\n",
    "    image_size=img_size,\n",
    "    class_names=dictionary,\n",
    "    color_mode='rgb',\n",
    "    batch_size=bs)"
   ]
  },
  {
   "cell_type": "code",
   "execution_count": 18,
   "metadata": {},
   "outputs": [],
   "source": [
    "\n",
    "es_callback = tf.keras.callbacks.EarlyStopping(\n",
    "    monitor='val_accuracy', patience=epochs*0.05, restore_best_weights=True)\n",
    "cp_callback = tf.keras.callbacks.ModelCheckpoint(\n",
    "    filepath=\"model/cp-{epoch:04d}.ckpt\",\n",
    "    verbose=0,\n",
    "    save_weights_only=True,\n",
    "    monitor='val_accuracy',\n",
    "    save_best_only=True)\n",
    "tb_callback = tf.keras.callbacks.TensorBoard(\n",
    "    log_dir=\"./logs\",\n",
    "            update_freq=\"epoch\")"
   ]
  },
  {
   "cell_type": "code",
   "execution_count": 20,
   "metadata": {},
   "outputs": [
    {
     "ename": "NameError",
     "evalue": "name 'batch_size' is not defined",
     "output_type": "error",
     "traceback": [
      "\u001b[1;31m---------------------------------------------------------------------------\u001b[0m",
      "\u001b[1;31mNameError\u001b[0m                                 Traceback (most recent call last)",
      "\u001b[1;32mc:\\Users\\Pongsakorn\\OneDrive\\Desktop\\Working\\FacialLandMarks\\facial_cleandata\\neural_network\\training.ipynb Cell 11'\u001b[0m in \u001b[0;36m<cell line: 1>\u001b[1;34m()\u001b[0m\n\u001b[0;32m      <a href='vscode-notebook-cell:/c%3A/Users/Pongsakorn/OneDrive/Desktop/Working/FacialLandMarks/facial_cleandata/neural_network/training.ipynb#ch0000010?line=0'>1</a>\u001b[0m history \u001b[39m=\u001b[39m model\u001b[39m.\u001b[39mfit(train_ds, validation_data\u001b[39m=\u001b[39mval_ds, shuffle\u001b[39m=\u001b[39m\u001b[39mTrue\u001b[39;00m, epochs\u001b[39m=\u001b[39mepochs, callbacks\u001b[39m=\u001b[39m[es_callback, cp_callback, tb_callback\n\u001b[0;32m      <a href='vscode-notebook-cell:/c%3A/Users/Pongsakorn/OneDrive/Desktop/Working/FacialLandMarks/facial_cleandata/neural_network/training.ipynb#ch0000010?line=1'>2</a>\u001b[0m                                                                                                   \u001b[39m# , reduce_lr\u001b[39;00m\n\u001b[1;32m----> <a href='vscode-notebook-cell:/c%3A/Users/Pongsakorn/OneDrive/Desktop/Working/FacialLandMarks/facial_cleandata/neural_network/training.ipynb#ch0000010?line=2'>3</a>\u001b[0m                                                                                                   ], class_weight\u001b[39m=\u001b[39mweight, batch_size\u001b[39m=\u001b[39mbatch_size)\n",
      "\u001b[1;31mNameError\u001b[0m: name 'batch_size' is not defined"
     ]
    }
   ],
   "source": [
    "history = model.fit(train_ds, validation_data=val_ds, shuffle=True, epochs=epochs, callbacks=[es_callback, cp_callback, tb_callback\n",
    "                                                                                                  # , reduce_lr\n",
    "                                                                                                  ], class_weight=weight, batch_size=bs)"
   ]
  }
 ],
 "metadata": {
  "interpreter": {
   "hash": "186c8c6637da87bf1b48281a4203551e6bea7fd5e6b5755ebb6ce2cf054369ca"
  },
  "kernelspec": {
   "display_name": "Python 3.9.7 ('base')",
   "language": "python",
   "name": "python3"
  },
  "language_info": {
   "codemirror_mode": {
    "name": "ipython",
    "version": 3
   },
   "file_extension": ".py",
   "mimetype": "text/x-python",
   "name": "python",
   "nbconvert_exporter": "python",
   "pygments_lexer": "ipython3",
   "version": "3.9.1"
  },
  "orig_nbformat": 4
 },
 "nbformat": 4,
 "nbformat_minor": 2
}
