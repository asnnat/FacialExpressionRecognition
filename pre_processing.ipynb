{
 "cells": [
  {
   "cell_type": "code",
   "execution_count": 1,
   "metadata": {},
   "outputs": [],
   "source": [
    "import pandas as pd\n",
    "import os\n",
    "import cv2\n",
    "import shutil\n",
    "\n",
    "cwd = os.getcwd()\n",
    "df = pd.read_csv(cwd + \"/data/legend.csv\")\n",
    "df.to_csv(cwd + \"/data_csv/all_data.csv\")\n",
    "\n",
    "df.drop(\"user_id\", axis=1, inplace=True)\n",
    "df[\"emotion\"].replace({\"anger\": \"ANGER\", \"contempt\": \"CONTEMPT\", \"disgust\": \"DISGUST\", \"fear\": \"FEAR\", \\\n",
    "                        \"happiness\": \"HAPPINESS\", \"neutral\": \"NEUTRAL\", \"sadness\": \"SADNESS\", \"surprise\": \"SURPRISE\"}, inplace=True)\n",
    "df = df.drop(df[df.emotion == \"CONTEMPT\"].index)\n",
    "df = df.drop(df[df.emotion == \"FEAR\"].index)"
   ]
  },
  {
   "cell_type": "code",
   "execution_count": 2,
   "metadata": {},
   "outputs": [
    {
     "data": {
      "text/html": [
       "<div>\n",
       "<style scoped>\n",
       "    .dataframe tbody tr th:only-of-type {\n",
       "        vertical-align: middle;\n",
       "    }\n",
       "\n",
       "    .dataframe tbody tr th {\n",
       "        vertical-align: top;\n",
       "    }\n",
       "\n",
       "    .dataframe thead th {\n",
       "        text-align: right;\n",
       "    }\n",
       "</style>\n",
       "<table border=\"1\" class=\"dataframe\">\n",
       "  <thead>\n",
       "    <tr style=\"text-align: right;\">\n",
       "      <th></th>\n",
       "      <th>image</th>\n",
       "    </tr>\n",
       "    <tr>\n",
       "      <th>emotion</th>\n",
       "      <th></th>\n",
       "    </tr>\n",
       "  </thead>\n",
       "  <tbody>\n",
       "    <tr>\n",
       "      <th>ANGER</th>\n",
       "      <td>252</td>\n",
       "    </tr>\n",
       "    <tr>\n",
       "      <th>DISGUST</th>\n",
       "      <td>208</td>\n",
       "    </tr>\n",
       "    <tr>\n",
       "      <th>HAPPINESS</th>\n",
       "      <td>5696</td>\n",
       "    </tr>\n",
       "    <tr>\n",
       "      <th>NEUTRAL</th>\n",
       "      <td>6868</td>\n",
       "    </tr>\n",
       "    <tr>\n",
       "      <th>SADNESS</th>\n",
       "      <td>268</td>\n",
       "    </tr>\n",
       "    <tr>\n",
       "      <th>SURPRISE</th>\n",
       "      <td>368</td>\n",
       "    </tr>\n",
       "  </tbody>\n",
       "</table>\n",
       "</div>"
      ],
      "text/plain": [
       "           image\n",
       "emotion         \n",
       "ANGER        252\n",
       "DISGUST      208\n",
       "HAPPINESS   5696\n",
       "NEUTRAL     6868\n",
       "SADNESS      268\n",
       "SURPRISE     368"
      ]
     },
     "execution_count": 2,
     "metadata": {},
     "output_type": "execute_result"
    }
   ],
   "source": [
    "df.groupby('emotion').count()"
   ]
  },
  {
   "cell_type": "code",
   "execution_count": 3,
   "metadata": {},
   "outputs": [],
   "source": [
    "def variance_of_laplacian(image):\n",
    "\treturn cv2.Laplacian(image, cv2.CV_64F).var()\n",
    "\n",
    "cwd = os.getcwd()\n",
    "\n",
    "dir_img = cwd + '/cleaned_images'\n",
    "if os.path.exists(dir_img):\n",
    "    shutil.rmtree(dir_img)\n",
    "os.makedirs(dir_img)\n",
    "\n",
    "all_image = []\n",
    "count = 0\n",
    "\n",
    "for idx, row in df.iterrows():\n",
    "    \n",
    "    imagePath = cwd + \"/images/\" + row.image\n",
    "\n",
    "    image = cv2.imread(imagePath)\n",
    "    height, width, channels = image.shape\n",
    "\n",
    "    # check size image\n",
    "    if(width != 350 or height != 350):\n",
    "        continue\n",
    "\n",
    "    # change color\n",
    "    gray = cv2.cvtColor(image, cv2.COLOR_BGR2GRAY)\n",
    "    \n",
    "    # check blurry\n",
    "    fm = variance_of_laplacian(gray)\n",
    "    if fm < 5:\n",
    "        continue\n",
    "    \n",
    "    # detect face\n",
    "    face_cascade = cv2.CascadeClassifier('haarcascade/haarcascade_frontalface_alt.xml')\n",
    "    eye_cascade = cv2.CascadeClassifier('haarcascade/haarcascade_eye_tree_eyeglasses.xml')\n",
    "    smile_cascade = cv2.CascadeClassifier('haarcascade/haarcascade_smile.xml')\n",
    "\n",
    "    face = face_cascade.detectMultiScale(\n",
    "        gray,\n",
    "        scaleFactor = 1.1,\n",
    "        minNeighbors = 4,\n",
    "        minSize = (200, 200),\n",
    "        flags = cv2.CASCADE_SCALE_IMAGE\n",
    "    )\n",
    "    \n",
    "    for (x, y, w, h) in face:\n",
    "        roi_gray = gray[y:y+h, x:x+w]\n",
    "\n",
    "    smile = smile_cascade.detectMultiScale(\n",
    "        roi_gray,\n",
    "        scaleFactor = 1.16,\n",
    "        minNeighbors = 35,\n",
    "        minSize = (25, 25),\n",
    "        flags = cv2.CASCADE_SCALE_IMAGE\n",
    "    )\n",
    "\n",
    "    eyes = eye_cascade.detectMultiScale(roi_gray)\n",
    "\n",
    "    if len(face) != 1 or len(smile) < 1 or len(eyes) < 2:\n",
    "        continue\n",
    "\n",
    "    all_image.append([row.image, row.emotion])\n",
    "    cv2.imwrite(os.path.join(dir_img, row.image), gray)\n",
    "    count += 1"
   ]
  },
  {
   "cell_type": "code",
   "execution_count": 4,
   "metadata": {},
   "outputs": [
    {
     "data": {
      "text/plain": [
       "4837"
      ]
     },
     "execution_count": 4,
     "metadata": {},
     "output_type": "execute_result"
    }
   ],
   "source": [
    "count"
   ]
  },
  {
   "cell_type": "code",
   "execution_count": 5,
   "metadata": {},
   "outputs": [],
   "source": [
    "new_df = pd.DataFrame(all_image, columns=[\"image\", \"emotion\"])\n",
    "new_df.to_csv(cwd + \"/data_csv/preprocessing_data.csv\")"
   ]
  },
  {
   "cell_type": "code",
   "execution_count": 6,
   "metadata": {},
   "outputs": [
    {
     "data": {
      "text/html": [
       "<div>\n",
       "<style scoped>\n",
       "    .dataframe tbody tr th:only-of-type {\n",
       "        vertical-align: middle;\n",
       "    }\n",
       "\n",
       "    .dataframe tbody tr th {\n",
       "        vertical-align: top;\n",
       "    }\n",
       "\n",
       "    .dataframe thead th {\n",
       "        text-align: right;\n",
       "    }\n",
       "</style>\n",
       "<table border=\"1\" class=\"dataframe\">\n",
       "  <thead>\n",
       "    <tr style=\"text-align: right;\">\n",
       "      <th></th>\n",
       "      <th>image</th>\n",
       "    </tr>\n",
       "    <tr>\n",
       "      <th>emotion</th>\n",
       "      <th></th>\n",
       "    </tr>\n",
       "  </thead>\n",
       "  <tbody>\n",
       "    <tr>\n",
       "      <th>ANGER</th>\n",
       "      <td>79</td>\n",
       "    </tr>\n",
       "    <tr>\n",
       "      <th>DISGUST</th>\n",
       "      <td>6</td>\n",
       "    </tr>\n",
       "    <tr>\n",
       "      <th>HAPPINESS</th>\n",
       "      <td>2379</td>\n",
       "    </tr>\n",
       "    <tr>\n",
       "      <th>NEUTRAL</th>\n",
       "      <td>2249</td>\n",
       "    </tr>\n",
       "    <tr>\n",
       "      <th>SADNESS</th>\n",
       "      <td>37</td>\n",
       "    </tr>\n",
       "    <tr>\n",
       "      <th>SURPRISE</th>\n",
       "      <td>87</td>\n",
       "    </tr>\n",
       "  </tbody>\n",
       "</table>\n",
       "</div>"
      ],
      "text/plain": [
       "           image\n",
       "emotion         \n",
       "ANGER         79\n",
       "DISGUST        6\n",
       "HAPPINESS   2379\n",
       "NEUTRAL     2249\n",
       "SADNESS       37\n",
       "SURPRISE      87"
      ]
     },
     "execution_count": 6,
     "metadata": {},
     "output_type": "execute_result"
    }
   ],
   "source": [
    "new_df.groupby('emotion').count()"
   ]
  }
 ],
 "metadata": {
  "interpreter": {
   "hash": "4d02cdae7faed44485a20a1dfe89a6c1f0576f684e5ae49a964539fc51d957e1"
  },
  "kernelspec": {
   "display_name": "Python 3.8.2 64-bit",
   "language": "python",
   "name": "python3"
  },
  "language_info": {
   "codemirror_mode": {
    "name": "ipython",
    "version": 3
   },
   "file_extension": ".py",
   "mimetype": "text/x-python",
   "name": "python",
   "nbconvert_exporter": "python",
   "pygments_lexer": "ipython3",
   "version": "3.8.2"
  },
  "orig_nbformat": 4
 },
 "nbformat": 4,
 "nbformat_minor": 2
}
